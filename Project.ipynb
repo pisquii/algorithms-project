{
  "nbformat": 4,
  "nbformat_minor": 0,
  "metadata": {
    "colab": {
      "name": "Project.ipynb",
      "provenance": [],
      "collapsed_sections": []
    },
    "kernelspec": {
      "name": "python3",
      "display_name": "Python 3"
    }
  },
  "cells": [
    {
      "cell_type": "code",
      "metadata": {
        "id": "dyvtT3QNu4Wi",
        "outputId": "ef0a6703-a324-4ed8-87ab-242617a28e55",
        "colab": {
          "base_uri": "https://localhost:8080/",
          "height": 240
        }
      },
      "source": [
        "#create a dictionary to store the name of the alcohol and the percentage of alcohol they contain\n",
        "class Alcohol():\n",
        "  def __init__(self,alc_name,perc_alcohol,):\n",
        "    self.alc_name = alc_name\n",
        "    self.perc_alcohol = perc_alcohol\n",
        "\n",
        "gin = Alcohol(gin = \"40\")\n",
        "whiskey = Alcohol(whiskey = \"43\")\n",
        "rum = Alcohol(rum=\"41\")\n",
        "vodka = Alcohol(vodka=\"39\")\n",
        "wine = Alcohol(wine= \"13\")\n",
        "beer =Alcohol(beer = \"5\")\n",
        "\n",
        "#user blows into device installed in the car and if it within the legal boundaries (0.3) he can drive if not:\n",
        "#user inputs how many drink and what type of alcohol he had, each drink contains approximately 4.5 cl of alcohol and the system will calculate how much time he needs to sober up\n",
        "\n",
        "def main():\n",
        "  alcohol_meassure = input(float(\"Blow\"))\n",
        "  if alcohol_measure < 0.3:\n",
        "    print (\"You are sober enough to get the car\")\n",
        "  else:\n",
        "      number = input(eval(\"Please enter the number of drinks you have had (gin, whiskey, rum, vodka, wine or beer):\"))\n",
        "      number = number*4.5\n",
        "      alc_name = input(eval(\"Please enter the type of alcohol you have consumed: \"))\n",
        "      alc_level = (number * alc_name * 0.8)/100\n",
        "      time_needed= (3-alc_level)/-1.5\n",
        "      print (\"You will have to wait\", time_needed, \"in order to sober up to the legal limit to be able to drive\")\n",
        "      if time_needed > 2:\n",
        "        print(\"It will be better to choose another way to move as it will take to long for you to move\")\n",
        "\n",
        "main()"
      ],
      "execution_count": 6,
      "outputs": [
        {
          "output_type": "error",
          "ename": "TypeError",
          "evalue": "ignored",
          "traceback": [
            "\u001b[0;31m---------------------------------------------------------------------------\u001b[0m",
            "\u001b[0;31mTypeError\u001b[0m                                 Traceback (most recent call last)",
            "\u001b[0;32m<ipython-input-6-8e68c92dd57b>\u001b[0m in \u001b[0;36m<module>\u001b[0;34m()\u001b[0m\n\u001b[1;32m      4\u001b[0m     \u001b[0mself\u001b[0m\u001b[0;34m.\u001b[0m\u001b[0mperc_alcohol\u001b[0m \u001b[0;34m=\u001b[0m \u001b[0mperc_alcohol\u001b[0m\u001b[0;34m\u001b[0m\u001b[0;34m\u001b[0m\u001b[0m\n\u001b[1;32m      5\u001b[0m \u001b[0;34m\u001b[0m\u001b[0m\n\u001b[0;32m----> 6\u001b[0;31m \u001b[0mgin\u001b[0m \u001b[0;34m=\u001b[0m \u001b[0mAlcohol\u001b[0m\u001b[0;34m(\u001b[0m\u001b[0mgin\u001b[0m \u001b[0;34m=\u001b[0m \u001b[0;34m\"40\"\u001b[0m\u001b[0;34m)\u001b[0m\u001b[0;34m\u001b[0m\u001b[0;34m\u001b[0m\u001b[0m\n\u001b[0m\u001b[1;32m      7\u001b[0m \u001b[0mwhiskey\u001b[0m \u001b[0;34m=\u001b[0m \u001b[0mAlcohol\u001b[0m\u001b[0;34m(\u001b[0m\u001b[0mwhiskey\u001b[0m \u001b[0;34m=\u001b[0m \u001b[0;34m\"43\"\u001b[0m\u001b[0;34m)\u001b[0m\u001b[0;34m\u001b[0m\u001b[0;34m\u001b[0m\u001b[0m\n\u001b[1;32m      8\u001b[0m \u001b[0mrum\u001b[0m \u001b[0;34m=\u001b[0m \u001b[0mAlcohol\u001b[0m\u001b[0;34m(\u001b[0m\u001b[0mrum\u001b[0m\u001b[0;34m=\u001b[0m\u001b[0;34m\"41\"\u001b[0m\u001b[0;34m)\u001b[0m\u001b[0;34m\u001b[0m\u001b[0;34m\u001b[0m\u001b[0m\n",
            "\u001b[0;31mTypeError\u001b[0m: __init__() got an unexpected keyword argument 'gin'"
          ]
        }
      ]
    }
  ]
}