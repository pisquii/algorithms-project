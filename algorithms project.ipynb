{
 "cells": [
  {
   "cell_type": "code",
   "execution_count": 2,
   "metadata": {
    "colab": {
     "base_uri": "https://localhost:8080/",
     "height": 240
    },
    "id": "dyvtT3QNu4Wi",
    "outputId": "ef0a6703-a324-4ed8-87ab-242617a28e55"
   },
   "outputs": [
    {
     "name": "stdout",
     "output_type": "stream",
     "text": [
      "Blow0.3\n",
      "Please enter the number of drinks you have had (gin, whiskey, rum, vodka, wine or beer):1\n",
      "Please enter the type of alcohol you have consumed: gin\n"
     ]
    },
    {
     "ename": "UnboundLocalError",
     "evalue": "local variable 'alc_level' referenced before assignment",
     "output_type": "error",
     "traceback": [
      "\u001b[0;31m---------------------------------------------------------------------------\u001b[0m",
      "\u001b[0;31mUnboundLocalError\u001b[0m                         Traceback (most recent call last)",
      "\u001b[0;32m<ipython-input-2-b544e8dde9ff>\u001b[0m in \u001b[0;36m<module>\u001b[0;34m\u001b[0m\n\u001b[1;32m     32\u001b[0m             \u001b[0mprint\u001b[0m\u001b[0;34m(\u001b[0m\u001b[0;34m\"It will be better to choose another way to move as it will take to long for you to move\"\u001b[0m\u001b[0;34m)\u001b[0m\u001b[0;34m\u001b[0m\u001b[0;34m\u001b[0m\u001b[0m\n\u001b[1;32m     33\u001b[0m \u001b[0;34m\u001b[0m\u001b[0m\n\u001b[0;32m---> 34\u001b[0;31m \u001b[0mmain\u001b[0m\u001b[0;34m(\u001b[0m\u001b[0;34m)\u001b[0m\u001b[0;34m\u001b[0m\u001b[0;34m\u001b[0m\u001b[0m\n\u001b[0m",
      "\u001b[0;32m<ipython-input-2-b544e8dde9ff>\u001b[0m in \u001b[0;36mmain\u001b[0;34m()\u001b[0m\n\u001b[1;32m     27\u001b[0m             \u001b[0;32mif\u001b[0m \u001b[0mname\u001b[0m \u001b[0;34m==\u001b[0m \u001b[0mstr\u001b[0m\u001b[0;34m(\u001b[0m\u001b[0mi\u001b[0m\u001b[0;34m.\u001b[0m\u001b[0malc_name\u001b[0m\u001b[0;34m)\u001b[0m\u001b[0;34m:\u001b[0m\u001b[0;34m\u001b[0m\u001b[0;34m\u001b[0m\u001b[0m\n\u001b[1;32m     28\u001b[0m                 \u001b[0malc_level\u001b[0m \u001b[0;34m=\u001b[0m \u001b[0mfloat\u001b[0m\u001b[0;34m(\u001b[0m\u001b[0;34m(\u001b[0m\u001b[0mnumber\u001b[0m \u001b[0;34m*\u001b[0m \u001b[0mi\u001b[0m\u001b[0;34m.\u001b[0m\u001b[0mperc_alcohol\u001b[0m \u001b[0;34m*\u001b[0m \u001b[0;36m0.8\u001b[0m\u001b[0;34m)\u001b[0m\u001b[0;34m/\u001b[0m\u001b[0;36m100\u001b[0m\u001b[0;34m)\u001b[0m\u001b[0;34m\u001b[0m\u001b[0;34m\u001b[0m\u001b[0m\n\u001b[0;32m---> 29\u001b[0;31m         \u001b[0mtime_needed\u001b[0m\u001b[0;34m=\u001b[0m \u001b[0;34m(\u001b[0m\u001b[0;36m3\u001b[0m\u001b[0;34m-\u001b[0m\u001b[0malc_level\u001b[0m\u001b[0;34m)\u001b[0m\u001b[0;34m/\u001b[0m\u001b[0;34m-\u001b[0m\u001b[0;36m1.5\u001b[0m\u001b[0;34m\u001b[0m\u001b[0;34m\u001b[0m\u001b[0m\n\u001b[0m\u001b[1;32m     30\u001b[0m         \u001b[0mprint\u001b[0m \u001b[0;34m(\u001b[0m\u001b[0;34m\"You will have to wait\"\u001b[0m\u001b[0;34m,\u001b[0m \u001b[0mtime_needed\u001b[0m\u001b[0;34m,\u001b[0m \u001b[0;34m\"in order to sober up to the legal limit to be able to drive\"\u001b[0m\u001b[0;34m)\u001b[0m\u001b[0;34m\u001b[0m\u001b[0;34m\u001b[0m\u001b[0m\n\u001b[1;32m     31\u001b[0m         \u001b[0;32mif\u001b[0m \u001b[0mtime_needed\u001b[0m \u001b[0;34m>\u001b[0m \u001b[0;36m2\u001b[0m\u001b[0;34m:\u001b[0m\u001b[0;34m\u001b[0m\u001b[0;34m\u001b[0m\u001b[0m\n",
      "\u001b[0;31mUnboundLocalError\u001b[0m: local variable 'alc_level' referenced before assignment"
     ]
    }
   ],
   "source": [
    "#create a dictionary to store the name of the alcohol and the percentage of alcohol they contain\n",
    "class Alcohol():\n",
    "    def __init__(self,alc_name,perc_alcohol):\n",
    "        self.alc_name = alc_name\n",
    "        self.perc_alcohol = perc_alcohol\n",
    "\n",
    "gin = Alcohol(alc_name = \"gin\", perc_alcohol = 40)\n",
    "whiskey = Alcohol(alc_name = \"whiskey\", perc_alcohol = 43)\n",
    "rum = Alcohol(alc_name = \"rum\", perc_alcohol = 41)\n",
    "vodka = Alcohol(alc_name = \"vodka\", perc_alcohol = 39)\n",
    "wine = Alcohol(alc_name = \"wine\", perc_alcohol = 13)\n",
    "beer = Alcohol(alc_name = \"beer\", perc_alcohol = 5)\n",
    "my_alcohols = [gin, whiskey, rum, vodka, wine, beer]\n",
    "\n",
    "#user blows into device installed in the car and if it within the legal boundaries (0.3) he can drive if not:\n",
    "#user inputs how many drink and what type of alcohol he had, each drink contains approximately 4.5 cl of alcohol and the system will calculate how much time he needs to sober up\n",
    "\n",
    "def main():\n",
    "    alcohol_measure = float(input(\"Blow\"))\n",
    "    if alcohol_measure < 0.3:\n",
    "        print (\"You are sober enough to get the car\")\n",
    "    else:\n",
    "        number = eval(input(\"Please enter the number of drinks you have had:\"))\n",
    "        number = number*4.5\n",
    "        name = str(input(\"Please enter the type of alcohol you have consumed (gin, whiskey, rum, vodka, wine or beer): \").lower) # to lower case\n",
    "        for i in my_alcohols:\n",
    "            if name == str(i.alc_name):\n",
    "                alc_level = float((number * i.perc_alcohol * 0.8)/100)\n",
    "        time_needed= (3-alc_level)/-1.5\n",
    "        print (\"You will have to wait\", time_needed, \"in order to sober up to the legal limit to be able to drive\")\n",
    "        if time_needed > 2:\n",
    "            print(\"It will be better to choose another way to move as it will take to long for you to move\")\n",
    "\n",
    "main()"
   ]
  },
  {
   "cell_type": "code",
   "execution_count": null,
   "metadata": {},
   "outputs": [],
   "source": []
  },
  {
   "cell_type": "code",
   "execution_count": null,
   "metadata": {},
   "outputs": [],
   "source": []
  },
  {
   "cell_type": "code",
   "execution_count": null,
   "metadata": {},
   "outputs": [],
   "source": []
  }
 ],
 "metadata": {
  "colab": {
   "collapsed_sections": [],
   "name": "Project.ipynb",
   "provenance": []
  },
  "kernelspec": {
   "display_name": "Python 3",
   "language": "python",
   "name": "python3"
  },
  "language_info": {
   "codemirror_mode": {
    "name": "ipython",
    "version": 3
   },
   "file_extension": ".py",
   "mimetype": "text/x-python",
   "name": "python",
   "nbconvert_exporter": "python",
   "pygments_lexer": "ipython3",
   "version": "3.8.3"
  }
 },
 "nbformat": 4,
 "nbformat_minor": 1
}
